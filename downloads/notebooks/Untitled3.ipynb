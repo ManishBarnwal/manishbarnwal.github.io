{
 "metadata": {
  "name": "",
  "signature": "sha256:8470bca11a972ba161317b4a0350f449a02d5ac438e3bec3ea785c4164a815df"
 },
 "nbformat": 3,
 "nbformat_minor": 0,
 "worksheets": [
  {
   "cells": [
    {
     "cell_type": "markdown",
     "metadata": {},
     "source": [
      "# Bash Commands That Every Data Scientist Should know"
     ]
    },
    {
     "cell_type": "code",
     "collapsed": false,
     "input": [
      "!ls"
     ],
     "language": "python",
     "metadata": {},
     "outputs": [
      {
       "output_type": "stream",
       "stream": "stdout",
       "text": [
        "2014-09-27-hadoop.ipynb\r\n",
        "2014-09-28-pyspark.ipynb\r\n",
        "2014-09-30-dictvectorizer.ipynb\r\n",
        "2014-10-02-Data_Scraping_Blog.ipynb\r\n",
        "2014-10-10-Downloading_Harvard_CS109.ipynb\r\n",
        "2014-12-01-Vowpal_Wabbit.ipynb\r\n",
        "2015-05-09-Using_A_Dictionary_in_Hadoop_Mapreduce_Streaming.ipynb\r\n",
        "2015-08-19-MCMC_Beta.ipynb\r\n",
        "2015-08-21-MCMC_Applications.ipynb\r\n",
        "2015-09-07-Spark_Part1.ipynb\r\n",
        "Flipkart_vs_Amazon.ipynb\r\n",
        "Spark.ipynb\r\n",
        "Untitled0.ipynb\r\n",
        "Untitled1.ipynb\r\n",
        "Untitled2.ipynb\r\n",
        "Untitled3.ipynb\r\n",
        "creative_commons.txt\r\n",
        "\u001b[34mdata\u001b[m\u001b[m\r\n",
        "\u001b[34mhighlight\u001b[m\u001b[m\r\n",
        "\u001b[34mimages\u001b[m\u001b[m\r\n",
        "leaflet-dvf.markers.min.js\r\n",
        "map.txt\r\n",
        "mdt_uv.kmz\r\n",
        "\u001b[34mstyles\u001b[m\u001b[m\r\n",
        "\u001b[34mt_tide_v1.3beta\u001b[m\u001b[m\r\n",
        "war_and_peace.txt\r\n"
       ]
      }
     ],
     "prompt_number": 2
    },
    {
     "cell_type": "code",
     "collapsed": false,
     "input": [],
     "language": "python",
     "metadata": {},
     "outputs": []
    }
   ],
   "metadata": {}
  }
 ]
}